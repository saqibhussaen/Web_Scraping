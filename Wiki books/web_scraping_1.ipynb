{
 "cells": [
  {
   "cell_type": "markdown",
   "metadata": {},
   "source": [
    "# Web Scraping All Book Titles From Wiki\n",
    "##### for Dataset"
   ]
  },
  {
   "cell_type": "markdown",
   "metadata": {},
   "source": [
    "#"
   ]
  },
  {
   "cell_type": "markdown",
   "metadata": {},
   "source": [
    "___Importing all necessary libraries___"
   ]
  },
  {
   "cell_type": "code",
   "execution_count": 1,
   "metadata": {},
   "outputs": [],
   "source": [
    "from bs4 import BeautifulSoup as bs\n",
    "import requests as r\n",
    "import sqlite3 as sq\n",
    "import pandas as pd\n",
    "import time"
   ]
  },
  {
   "cell_type": "markdown",
   "metadata": {},
   "source": [
    "___Creating a function to store data in a db file.___"
   ]
  },
  {
   "cell_type": "code",
   "execution_count": 2,
   "metadata": {},
   "outputs": [],
   "source": [
    "def db(list_category, book_title, author_name, date, book_link, author_link, link):\n",
    "    conn = sq.connect('every_book_in_the_world.db')\n",
    "    cor = conn.cursor()\n",
    "    cor.executescript(\"\"\"CREATE TABLE IF NOT EXISTS books(\n",
    "        id INTEGER PRIMARY KEY NOT NULL,\n",
    "        list_category TEXT,\n",
    "        book_title TEXT unique,\n",
    "        author_name TEXT,\n",
    "        date TEXT,\n",
    "        book_link TEXT,\n",
    "        author_link TEXT,\n",
    "        link TEXT);\"\"\")\n",
    "    cor.execute(\"\"\"INSERT OR IGNORE INTO books(list_category, book_title, author_name, date, book_link, author_link, link)\n",
    "        VALUES(?, ?, ?, ?, ?, ?, ?)\"\"\", (list_category, book_title, author_name, date, book_link, author_link, link))\n",
    "    conn.commit()\n",
    "    print('Data committed')\n",
    "    return None "
   ]
  },
  {
   "cell_type": "markdown",
   "metadata": {},
   "source": [
    "___Creating function to store links of categories of books___"
   ]
  },
  {
   "cell_type": "code",
   "execution_count": 3,
   "metadata": {},
   "outputs": [],
   "source": [
    "def listdb(book_category, category_list_link):\n",
    "    #import sqlite3 as sq\n",
    "    #import time\n",
    "    conn = sq.connect('list_of_books.db')\n",
    "    cor = conn.cursor()\n",
    "    cor.executescript(\"\"\"CREATE TABLE IF NOT EXISTS list(\n",
    "        id INTEGER NOT NULL PRIMARY KEY AUTOINCREMENT,\n",
    "        book_category TEXT unique,\n",
    "        category_list_link TEXT);\"\"\")\n",
    "    cor.execute(\"\"\"INSERT OR IGNORE INTO list(book_category, category_list_link)\n",
    "                values(?, ?)\"\"\", (book_category, category_list_link))\n",
    "    conn.commit()\n",
    "    conn.close()\n",
    "    return None\n",
    "    "
   ]
  },
  {
   "cell_type": "markdown",
   "metadata": {},
   "source": [
    "___Connection Function___"
   ]
  },
  {
   "cell_type": "code",
   "execution_count": 4,
   "metadata": {},
   "outputs": [],
   "source": [
    "def loadsite(url):\n",
    "    site = r.get(url)\n",
    "    if site.status_code == 200:\n",
    "        soup = bs(site.text, 'lxml')\n",
    "        print(f'Status code: {site.status_code}')\n",
    "        return soup"
   ]
  },
  {
   "cell_type": "code",
   "execution_count": null,
   "metadata": {},
   "outputs": [],
   "source": [
    "soup = loadsite('https://en.wikipedia.org/wiki/Lists_of_books#Other_lists')\n",
    "main_div = soup.findAll('div', class_='div-col')"
   ]
  },
  {
   "cell_type": "code",
   "execution_count": null,
   "metadata": {},
   "outputs": [],
   "source": [
    "for dev in main_div:\n",
    "    li = dev.findAll('li')\n",
    "    for category_list_link in li:\n",
    "        book_category = category_list_link.a.text\n",
    "        category_list_link = 'https://en.wikipedia.org' + category_list_link.a['href']\n",
    "        listdb(book_category, category_list_link)\n",
    "        print(f'Title: {book_category} \\n Link: {category_list_link}\\n')"
   ]
  },
  {
   "cell_type": "markdown",
   "metadata": {},
   "source": [
    "__Function To Find lists & Tables__"
   ]
  },
  {
   "cell_type": "code",
   "execution_count": null,
   "metadata": {},
   "outputs": [],
   "source": [
    "def find_li(soup, div):\n",
    "    count = 0\n",
    "    divv = soup.find('div', class_=f'{div}')\n",
    "    df = pd.DataFrame(columns=['list_category', 'book_title', 'author_name', 'date', 'book_link', 'author_link', 'link'])\n",
    "    for li in divv.findAll('li'):\n",
    "        try:\n",
    "            Nan = ['Authors', 'Titles', 'Illustrators', 'Publishers', 'Category', 'Links']\n",
    "            li = li.contents\n",
    "            try:\n",
    "                book_title = book_title.a.title.text.strip()\n",
    "                \n",
    "            ######\n",
    "            try:\n",
    "                book_link = 'https://en.wikipedia.org' + li[0].a['href']\n",
    "            except:\n",
    "                book_link = 'N/A'\n",
    "            ######\n",
    "            try:\n",
    "                date = int(li[1].text.strip().split(' ')[0].split('(')[1].split(')')[0])\n",
    "            except:\n",
    "                date = 'N/A'\n",
    "            ######\n",
    "            try:\n",
    "                author = li[2].text\n",
    "                for i in author:\n",
    "                    if i.isdigit():\n",
    "                        break\n",
    "                    if i in Nan:\n",
    "                        break\n",
    "            except:\n",
    "                author = 'N/A'\n",
    "            ######\n",
    "            try:\n",
    "                author_link = 'https://en.wikipedia.org' + li[2].a['href']\n",
    "            except:\n",
    "                author_link = 'N/A'\n",
    "            ######\n",
    "            count += 1\n",
    "        except:\n",
    "            continue\n",
    "        df = df.append({'book_title': book_title, 'author_name': author, 'date': date, 'book_link': book_link, 'author_link': author_link}, ignore_index=True)\n",
    "        #print(f'Book Title: {book_title} \\n Book Link: {book_link} \\n Date: {date} \\n Author: {author} \\n Author Link: {author_link} \\n')\n",
    "    return df"
   ]
  },
  {
   "cell_type": "code",
   "execution_count": null,
   "metadata": {},
   "outputs": [],
   "source": [
    "#site ='https://en.wikipedia.org/wiki/List_of_18th-century_British_children%27s_literature_titles'\n",
    "div = 'mw-parser-output'\n",
    "conn = sq.connect('list_of_books.db')\n",
    "corr = conn.cursor()\n",
    "qdf = pd.read_sql_query(\"SELECT book_category, category_list_link FROM list\", conn)\n",
    "links = qdf['category_list_link']\n",
    "count = 0\n",
    "\n",
    "\n",
    "for site in links:\n",
    "    time.sleep(1)\n",
    "    soup = loadsite(site)\n",
    "    var = find_li(soup, div)\n",
    "    bc = qdf['book_category']\n",
    "    bt = var['book_title']\n",
    "    an = var['author_name']\n",
    "    d = var['date']\n",
    "    bl = var['book_link']\n",
    "    al = var['author_link']\n",
    "    for bc, bt, an, d, bl, al in zip(bc, bt, an, d, bl, al):\n",
    "        count += 1\n",
    "        db(bc, bt, an, d, bl, al, site)\n",
    "print('Done')\n",
    "conn.close()"
   ]
  },
  {
   "cell_type": "code",
   "execution_count": 7,
   "metadata": {},
   "outputs": [
    {
     "data": {
      "text/plain": [
       "'https://en.wikipedia.org/wiki/List_of_18th-century_British_children%27s_literature_titles'"
      ]
     },
     "execution_count": 7,
     "metadata": {},
     "output_type": "execute_result"
    }
   ],
   "source": [
    "conn = sq.connect('list_of_books.db')\n",
    "corr = conn.cursor()\n",
    "qdf = pd.read_sql_query(\"SELECT book_category, category_list_link FROM list\", conn)\n",
    "links = qdf['category_list_link']\n",
    "links[0]"
   ]
  },
  {
   "cell_type": "code",
   "execution_count": 8,
   "metadata": {},
   "outputs": [
    {
     "name": "stdout",
     "output_type": "stream",
     "text": [
      "Status code: 200\n"
     ]
    }
   ],
   "source": [
    "div = 'mw-parser-output'\n",
    "soup = loadsite(links[0])"
   ]
  },
  {
   "cell_type": "code",
   "execution_count": 17,
   "metadata": {},
   "outputs": [],
   "source": [
    "count = 0\n",
    "divv = soup.find('div', class_=f'{div}')\n",
    "df = pd.DataFrame(columns=['list_category', 'book_title', 'author_name', 'date', 'book_link', 'author_link', 'link'])\n",
    "for li in divv.findAll('li'):\n",
    "    li = li.contents\n",
    "    book_title = li[0].text.strip()    \n",
    "    ######\n",
    "    try:\n",
    "        book_link = 'https://en.wikipedia.org' + li[0].a['href']\n",
    "    except:\n",
    "        book_link = 'N/A'\n",
    "    ######\n",
    "    try:\n",
    "        date = int(li[1].text.strip().split(' ')[0].split('(')[1].split(')')[0])\n",
    "    except:\n",
    "        date = 'N/A'\n",
    "    ######\n",
    "    try:\n",
    "        author = li[2].text\n",
    "        for i in author:\n",
    "            if i.isdigit():\n",
    "                break\n",
    "            if i in Nan:\n",
    "                break\n",
    "    except:\n",
    "        author = 'N/A'\n",
    "    ######\n",
    "    try:\n",
    "        author_link = 'https://en.wikipedia.org' + li[2].a['href']\n",
    "    except:\n",
    "        author_link = 'N/A'\n",
    "    ######\n",
    "    count += 1\n",
    "    df = df.append({'book_title': book_title, 'author_name': author, 'date': date, 'book_link': book_link, 'author_link': author_link}, ignore_index=True)"
   ]
  },
  {
   "cell_type": "code",
   "execution_count": 19,
   "metadata": {},
   "outputs": [],
   "source": [
    "df.to_csv('books.csv', index=False)"
   ]
  },
  {
   "cell_type": "code",
   "execution_count": null,
   "metadata": {},
   "outputs": [],
   "source": []
  }
 ],
 "metadata": {
  "kernelspec": {
   "display_name": "Python 3.10.6 64-bit",
   "language": "python",
   "name": "python3"
  },
  "language_info": {
   "codemirror_mode": {
    "name": "ipython",
    "version": 3
   },
   "file_extension": ".py",
   "mimetype": "text/x-python",
   "name": "python",
   "nbconvert_exporter": "python",
   "pygments_lexer": "ipython3",
   "version": "3.10.6"
  },
  "orig_nbformat": 4,
  "vscode": {
   "interpreter": {
    "hash": "cecf33e399c9a4b2ac8849b36ddc20babf3bb25339060d06ecca79322a8ef088"
   }
  }
 },
 "nbformat": 4,
 "nbformat_minor": 2
}
