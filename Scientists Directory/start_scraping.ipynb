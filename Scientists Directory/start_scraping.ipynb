{
 "cells": [
  {
   "cell_type": "code",
   "execution_count": 32,
   "metadata": {},
   "outputs": [],
   "source": [
    "from bs4 import BeautifulSoup as bs\n",
    "import requests as r\n",
    "import sqlite3 as sq\n",
    "import pandas as pd\n",
    "import time\n",
    "import random"
   ]
  },
  {
   "cell_type": "code",
   "execution_count": 33,
   "metadata": {},
   "outputs": [],
   "source": [
    "def loadsite(url):\n",
    "    site = r.get(url)\n",
    "    if site.status_code == 200:\n",
    "        soup = bs(site.text, 'lxml')\n",
    "        print(f'Status code: {site.status_code}')\n",
    "        return soup"
   ]
  },
  {
   "cell_type": "code",
   "execution_count": 34,
   "metadata": {},
   "outputs": [],
   "source": [
    "def fdiv(div):\n",
    "    count = 0\n",
    "    divv = soup.find('div', class_=f'{div}')\n",
    "    return divv"
   ]
  },
  {
   "cell_type": "code",
   "execution_count": 67,
   "metadata": {},
   "outputs": [],
   "source": [
    "df = pd.DataFrame()"
   ]
  },
  {
   "cell_type": "markdown",
   "metadata": {},
   "source": [
    "### Start writing your code below ."
   ]
  },
  {
   "cell_type": "code",
   "execution_count": 36,
   "metadata": {},
   "outputs": [
    {
     "name": "stdout",
     "output_type": "stream",
     "text": [
      "Status code: 200\n"
     ]
    }
   ],
   "source": [
    "soup = loadsite('http://www.pastic.gov.pk/scientists.aspx?par=onlin&cmenu=sd&page=1')\n"
   ]
  },
  {
   "cell_type": "code",
   "execution_count": 37,
   "metadata": {},
   "outputs": [],
   "source": [
    "data = fdiv('pastic_text')\n",
    "table = data.find('table')\n",
    "rows = table.find_all('tr')"
   ]
  },
  {
   "cell_type": "code",
   "execution_count": 68,
   "metadata": {},
   "outputs": [
    {
     "name": "stderr",
     "output_type": "stream",
     "text": [
      "C:\\Users\\saqib\\AppData\\Local\\Temp\\ipykernel_9428\\4237686723.py:4: FutureWarning: The default dtype for empty Series will be 'object' instead of 'float64' in a future version. Specify a dtype explicitly to silence this warning.\n",
      "  df = df.append(pd.Series(cols), ignore_index=True)\n",
      "C:\\Users\\saqib\\AppData\\Local\\Temp\\ipykernel_9428\\4237686723.py:4: FutureWarning: The frame.append method is deprecated and will be removed from pandas in a future version. Use pandas.concat instead.\n",
      "  df = df.append(pd.Series(cols), ignore_index=True)\n",
      "C:\\Users\\saqib\\AppData\\Local\\Temp\\ipykernel_9428\\4237686723.py:4: FutureWarning: The frame.append method is deprecated and will be removed from pandas in a future version. Use pandas.concat instead.\n",
      "  df = df.append(pd.Series(cols), ignore_index=True)\n"
     ]
    }
   ],
   "source": [
    "for row in rows:\n",
    "    cols = row.find_all('td')\n",
    "    cols = [data.text.strip() for data in cols]\n",
    "    df = df.append(pd.Series(cols), ignore_index=True)"
   ]
  },
  {
   "cell_type": "code",
   "execution_count": 70,
   "metadata": {},
   "outputs": [],
   "source": [
    "df.drop(columns=[0], inplace=True)"
   ]
  },
  {
   "cell_type": "code",
   "execution_count": 118,
   "metadata": {},
   "outputs": [],
   "source": [
    "df.columns = ['Name', 'Discipline', 'Affiliation', 'Qualifition']"
   ]
  },
  {
   "cell_type": "code",
   "execution_count": 77,
   "metadata": {},
   "outputs": [],
   "source": [
    "df.drop(df.index[0], inplace=True)"
   ]
  },
  {
   "cell_type": "code",
   "execution_count": 119,
   "metadata": {},
   "outputs": [
    {
     "data": {
      "text/html": [
       "<div>\n",
       "<style scoped>\n",
       "    .dataframe tbody tr th:only-of-type {\n",
       "        vertical-align: middle;\n",
       "    }\n",
       "\n",
       "    .dataframe tbody tr th {\n",
       "        vertical-align: top;\n",
       "    }\n",
       "\n",
       "    .dataframe thead th {\n",
       "        text-align: right;\n",
       "    }\n",
       "</style>\n",
       "<table border=\"1\" class=\"dataframe\">\n",
       "  <thead>\n",
       "    <tr style=\"text-align: right;\">\n",
       "      <th></th>\n",
       "      <th>Name</th>\n",
       "      <th>Discipline</th>\n",
       "      <th>Affiliation</th>\n",
       "      <th>Qualifition</th>\n",
       "    </tr>\n",
       "  </thead>\n",
       "  <tbody>\n",
       "    <tr>\n",
       "      <th>1</th>\n",
       "      <td>Abdur Rehman Mashal</td>\n",
       "      <td>Information Technology</td>\n",
       "      <td>Abasyn University, Peshawar</td>\n",
       "      <td>MS</td>\n",
       "    </tr>\n",
       "    <tr>\n",
       "      <th>2</th>\n",
       "      <td>Adnan Ali</td>\n",
       "      <td>Engineering Sciences</td>\n",
       "      <td>Abasyn University, Peshawar</td>\n",
       "      <td>MS</td>\n",
       "    </tr>\n",
       "    <tr>\n",
       "      <th>3</th>\n",
       "      <td>Adnan Gul</td>\n",
       "      <td>Engineering Sciences</td>\n",
       "      <td>Abasyn University, Peshawar</td>\n",
       "      <td>MS</td>\n",
       "    </tr>\n",
       "    <tr>\n",
       "      <th>4</th>\n",
       "      <td>Dr. Affaq Qamar</td>\n",
       "      <td>Engineering Sciences</td>\n",
       "      <td>Abasyn University, Peshawar</td>\n",
       "      <td>Ph.D.</td>\n",
       "    </tr>\n",
       "    <tr>\n",
       "      <th>5</th>\n",
       "      <td>Dr. Ali Asghar Ghani</td>\n",
       "      <td>Health Sciences</td>\n",
       "      <td>Abasyn University, Peshawar</td>\n",
       "      <td>Ph.D</td>\n",
       "    </tr>\n",
       "    <tr>\n",
       "      <th>...</th>\n",
       "      <td>...</td>\n",
       "      <td>...</td>\n",
       "      <td>...</td>\n",
       "      <td>...</td>\n",
       "    </tr>\n",
       "    <tr>\n",
       "      <th>9223</th>\n",
       "      <td>Uzma Rehman</td>\n",
       "      <td>Social Sciences</td>\n",
       "      <td>Women universtiy Swabi (WUS), Swabi</td>\n",
       "      <td>Mphil</td>\n",
       "    </tr>\n",
       "    <tr>\n",
       "      <th>9224</th>\n",
       "      <td>Dr. Huma Shareef</td>\n",
       "      <td>Chemical Sciences</td>\n",
       "      <td>Ziauddin University, Karachi</td>\n",
       "      <td></td>\n",
       "    </tr>\n",
       "    <tr>\n",
       "      <th>9225</th>\n",
       "      <td>Dr. Munaf Rashid</td>\n",
       "      <td>Engineering Sciences</td>\n",
       "      <td>Ziauddin University, Karachi</td>\n",
       "      <td>Ph.D.</td>\n",
       "    </tr>\n",
       "    <tr>\n",
       "      <th>9226</th>\n",
       "      <td>Dr. Sarmad Shams</td>\n",
       "      <td>Biological Sciences</td>\n",
       "      <td>Ziauddin University, Karachi</td>\n",
       "      <td>Ph.D.</td>\n",
       "    </tr>\n",
       "    <tr>\n",
       "      <th>9227</th>\n",
       "      <td>Dr. Shehla Ahmed</td>\n",
       "      <td>Health Sciences</td>\n",
       "      <td>Ziauddin University, Karachi</td>\n",
       "      <td>MBBS</td>\n",
       "    </tr>\n",
       "  </tbody>\n",
       "</table>\n",
       "<p>9227 rows × 4 columns</p>\n",
       "</div>"
      ],
      "text/plain": [
       "                      Name              Discipline  \\\n",
       "1      Abdur Rehman Mashal  Information Technology   \n",
       "2                Adnan Ali    Engineering Sciences   \n",
       "3                Adnan Gul    Engineering Sciences   \n",
       "4          Dr. Affaq Qamar    Engineering Sciences   \n",
       "5     Dr. Ali Asghar Ghani         Health Sciences   \n",
       "...                    ...                     ...   \n",
       "9223           Uzma Rehman         Social Sciences   \n",
       "9224      Dr. Huma Shareef       Chemical Sciences   \n",
       "9225      Dr. Munaf Rashid    Engineering Sciences   \n",
       "9226      Dr. Sarmad Shams     Biological Sciences   \n",
       "9227      Dr. Shehla Ahmed         Health Sciences   \n",
       "\n",
       "                              Affiliation Qualifition  \n",
       "1             Abasyn University, Peshawar          MS  \n",
       "2             Abasyn University, Peshawar          MS  \n",
       "3             Abasyn University, Peshawar          MS  \n",
       "4             Abasyn University, Peshawar       Ph.D.  \n",
       "5             Abasyn University, Peshawar        Ph.D  \n",
       "...                                   ...         ...  \n",
       "9223  Women universtiy Swabi (WUS), Swabi       Mphil  \n",
       "9224         Ziauddin University, Karachi              \n",
       "9225         Ziauddin University, Karachi       Ph.D.  \n",
       "9226         Ziauddin University, Karachi       Ph.D.  \n",
       "9227         Ziauddin University, Karachi        MBBS  \n",
       "\n",
       "[9227 rows x 4 columns]"
      ]
     },
     "execution_count": 119,
     "metadata": {},
     "output_type": "execute_result"
    }
   ],
   "source": [
    "df"
   ]
  },
  {
   "cell_type": "code",
   "execution_count": 86,
   "metadata": {},
   "outputs": [
    {
     "data": {
      "text/html": [
       "<div>\n",
       "<style scoped>\n",
       "    .dataframe tbody tr th:only-of-type {\n",
       "        vertical-align: middle;\n",
       "    }\n",
       "\n",
       "    .dataframe tbody tr th {\n",
       "        vertical-align: top;\n",
       "    }\n",
       "\n",
       "    .dataframe thead th {\n",
       "        text-align: right;\n",
       "    }\n",
       "</style>\n",
       "<table border=\"1\" class=\"dataframe\">\n",
       "  <thead>\n",
       "    <tr style=\"text-align: right;\">\n",
       "      <th></th>\n",
       "      <th>Name</th>\n",
       "      <th>Discipline</th>\n",
       "      <th>Affiliaion</th>\n",
       "      <th>Qualifition</th>\n",
       "    </tr>\n",
       "  </thead>\n",
       "  <tbody>\n",
       "    <tr>\n",
       "      <th>count</th>\n",
       "      <td>9227</td>\n",
       "      <td>9227</td>\n",
       "      <td>9227</td>\n",
       "      <td>9227</td>\n",
       "    </tr>\n",
       "    <tr>\n",
       "      <th>unique</th>\n",
       "      <td>8141</td>\n",
       "      <td>13</td>\n",
       "      <td>410</td>\n",
       "      <td>72</td>\n",
       "    </tr>\n",
       "    <tr>\n",
       "      <th>top</th>\n",
       "      <td>Dr. Muhammad Imran</td>\n",
       "      <td>Biological Sciences</td>\n",
       "      <td>University of the Punjab, Lahore</td>\n",
       "      <td>Ph.D.</td>\n",
       "    </tr>\n",
       "    <tr>\n",
       "      <th>freq</th>\n",
       "      <td>17</td>\n",
       "      <td>1913</td>\n",
       "      <td>443</td>\n",
       "      <td>3757</td>\n",
       "    </tr>\n",
       "  </tbody>\n",
       "</table>\n",
       "</div>"
      ],
      "text/plain": [
       "                      Name           Discipline  \\\n",
       "count                 9227                 9227   \n",
       "unique                8141                   13   \n",
       "top     Dr. Muhammad Imran  Biological Sciences   \n",
       "freq                    17                 1913   \n",
       "\n",
       "                              Affiliaion Qualifition  \n",
       "count                               9227        9227  \n",
       "unique                               410          72  \n",
       "top     University of the Punjab, Lahore       Ph.D.  \n",
       "freq                                 443        3757  "
      ]
     },
     "execution_count": 86,
     "metadata": {},
     "output_type": "execute_result"
    }
   ],
   "source": [
    "df.describe(include='all')"
   ]
  },
  {
   "cell_type": "code",
   "execution_count": 116,
   "metadata": {},
   "outputs": [
    {
     "data": {
      "text/plain": [
       "0    Ph.D.\n",
       "Name: Qualifition, dtype: object"
      ]
     },
     "execution_count": 116,
     "metadata": {},
     "output_type": "execute_result"
    }
   ],
   "source": [
    "df['Qualifition'].mode()"
   ]
  },
  {
   "cell_type": "code",
   "execution_count": 140,
   "metadata": {},
   "outputs": [
    {
     "data": {
      "text/plain": [
       "0    University of the Punjab, Lahore\n",
       "Name: Affiliation, dtype: object"
      ]
     },
     "execution_count": 140,
     "metadata": {},
     "output_type": "execute_result"
    }
   ],
   "source": [
    "df['Affiliation'].mode()"
   ]
  },
  {
   "cell_type": "code",
   "execution_count": 141,
   "metadata": {},
   "outputs": [],
   "source": [
    "df.to_csv('Scientists Directory.csv', index=False)"
   ]
  },
  {
   "cell_type": "code",
   "execution_count": null,
   "metadata": {},
   "outputs": [],
   "source": []
  }
 ],
 "metadata": {
  "kernelspec": {
   "display_name": "Python 3.10.6 64-bit",
   "language": "python",
   "name": "python3"
  },
  "language_info": {
   "codemirror_mode": {
    "name": "ipython",
    "version": 3
   },
   "file_extension": ".py",
   "mimetype": "text/x-python",
   "name": "python",
   "nbconvert_exporter": "python",
   "pygments_lexer": "ipython3",
   "version": "3.10.6"
  },
  "orig_nbformat": 4,
  "vscode": {
   "interpreter": {
    "hash": "cecf33e399c9a4b2ac8849b36ddc20babf3bb25339060d06ecca79322a8ef088"
   }
  }
 },
 "nbformat": 4,
 "nbformat_minor": 2
}
