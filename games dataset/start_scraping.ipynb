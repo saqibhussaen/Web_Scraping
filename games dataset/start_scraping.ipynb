{
 "cells": [
  {
   "cell_type": "code",
   "execution_count": null,
   "metadata": {},
   "outputs": [],
   "source": [
    "from bs4 import BeautifulSoup as bs\n",
    "import requests as r\n",
    "import sqlite3 as sq\n",
    "import pandas as pd\n",
    "import time\n",
    "import random"
   ]
  },
  {
   "cell_type": "code",
   "execution_count": null,
   "metadata": {},
   "outputs": [],
   "source": [
    "def loadsite(url, params):\n",
    "    if params is None:\n",
    "        site = r.get(url)\n",
    "    else:\n",
    "        site = r.get(url, params=params)\n",
    "    if site.status_code == 200:\n",
    "        soup = bs(site.text, 'lxml')\n",
    "        print(f'Status code: {site.status_code}')\n",
    "        return soup "
   ]
  },
  {
   "cell_type": "code",
   "execution_count": null,
   "metadata": {},
   "outputs": [],
   "source": [
    "def fdiv(div):\n",
    "    count = 0\n",
    "    divv = soup.find('div', class_=f'{div}')\n",
    "    return divv"
   ]
  },
  {
   "cell_type": "code",
   "execution_count": null,
   "metadata": {},
   "outputs": [],
   "source": [
    "def pause():\n",
    "    rate = [i/10 for i in range(11)]\n",
    "    time.sleep(random.choice(rate))\n",
    "    print('Please wait...')"
   ]
  },
  {
   "cell_type": "code",
   "execution_count": null,
   "metadata": {},
   "outputs": [],
   "source": [
    "df = pd.DataFrame()"
   ]
  },
  {
   "cell_type": "markdown",
   "metadata": {},
   "source": [
    "### Start writing your code below ."
   ]
  },
  {
   "cell_type": "code",
   "execution_count": null,
   "metadata": {},
   "outputs": [],
   "source": [
    "url = 'https://www.game-debate.com/games?year=2000'\n",
    "#params = {}\n",
    "soup = loadsite(url, None)\n",
    "data = fdiv('game-list-container')\n"
   ]
  },
  {
   "cell_type": "code",
   "execution_count": null,
   "metadata": {},
   "outputs": [],
   "source": [
    "df = pd.DataFrame()\n",
    "year = 2000\n",
    "cond = True\n",
    "while cond == True:\n",
    "    if year == 2023:\n",
    "        cond = False\n",
    "        print('End of scraping')\n",
    "        break\n",
    "    url = f'https://www.game-debate.com/games?year={year}'\n",
    "    #params = {}\n",
    "    soup = loadsite(url, None)\n",
    "    data = fdiv('game-list-container')\n",
    "    for row in table.findAll('tr'):\n",
    "        cols = row.findAll('td')\n",
    "        title = cols[0].text.strip()\n",
    "        descrition = cols[1].text.strip()\n",
    "        release = cols[2].text.strip()\n",
    "        genre = cols[3].text.strip()\n",
    "        for col in row.find_all('td'):\n",
    "            for a in col.find_all('a'):\n",
    "                h = a.get('href')\n",
    "                h = h.strip().replace(' ', '%20')\n",
    "                href = 'https://www.game-debate.com' + h\n",
    "        df = df.append({'Title': title, 'Description': descrition, 'Release': release, 'Genre': genre, 'Year': year, 'link': href}, ignore_index=True)\n",
    "    year += 1\n",
    "    pause()"
   ]
  },
  {
   "cell_type": "code",
   "execution_count": null,
   "metadata": {},
   "outputs": [],
   "source": [
    "df.head()"
   ]
  },
  {
   "cell_type": "code",
   "execution_count": null,
   "metadata": {},
   "outputs": [],
   "source": [
    "df1 = pd.read_csv('GamesDataset20-23.csv')\n",
    "links = df1['link']"
   ]
  },
  {
   "cell_type": "code",
   "execution_count": null,
   "metadata": {},
   "outputs": [],
   "source": [
    "data =loadsite(links[3], None)\n",
    "data"
   ]
  },
  {
   "cell_type": "code",
   "execution_count": 160,
   "metadata": {},
   "outputs": [
    {
     "name": "stdout",
     "output_type": "stream",
     "text": [
      "OS: Windows 2000 Processor: Intel Pentium III / AMD Athlon MP Graphics: AMD Radeon Xpress 1200 Series or NVIDIA GeForce 6200 LE RAM: 0MB HDD: 0MB DirectX 8 Compatible Graphics Card\n"
     ]
    }
   ],
   "source": [
    "ul = data.find('ul', class_='devDefSysReqList')\n",
    "\n",
    "li = ul.findAll('li')\n",
    "os = li[0].text.strip()\n",
    "cpu = li[1].text.strip()\n",
    "gpu = li[2].text.strip()\n",
    "ram = li[3].text.strip()\n",
    "hdd = li[4].text.strip()\n",
    "soft = li[5].text.strip()\n",
    "print(os, cpu, gpu, ram, hdd, soft)"
   ]
  },
  {
   "cell_type": "code",
   "execution_count": null,
   "metadata": {},
   "outputs": [],
   "source": [
    "df.to_csv('GamesDataset20-23.csv', index=False)"
   ]
  }
 ],
 "metadata": {
  "kernelspec": {
   "display_name": "Python 3.10.6 64-bit",
   "language": "python",
   "name": "python3"
  },
  "language_info": {
   "codemirror_mode": {
    "name": "ipython",
    "version": 3
   },
   "file_extension": ".py",
   "mimetype": "text/x-python",
   "name": "python",
   "nbconvert_exporter": "python",
   "pygments_lexer": "ipython3",
   "version": "3.10.6"
  },
  "orig_nbformat": 4,
  "vscode": {
   "interpreter": {
    "hash": "cecf33e399c9a4b2ac8849b36ddc20babf3bb25339060d06ecca79322a8ef088"
   }
  }
 },
 "nbformat": 4,
 "nbformat_minor": 2
}
